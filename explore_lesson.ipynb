{
 "cells": [
  {
   "cell_type": "markdown",
   "metadata": {},
   "source": [
    "## Time Series EDA\n",
    "- single continuous variable over (uniformly distributed) time\n",
    "- identify trend and seasonality"
   ]
  },
  {
   "cell_type": "markdown",
   "metadata": {},
   "source": [
    "### Setup\n",
    "°F = (K - 273.15) x 1.8000 + 32.00"
   ]
  },
  {
   "cell_type": "code",
   "execution_count": 1,
   "metadata": {},
   "outputs": [],
   "source": [
    "# imports\n",
    "import numpy as np\n",
    "import pandas as pd\n",
    "import matplotlib.pyplot as plt\n",
    "import seaborn as sns\n",
    "import statsmodels.api as sm"
   ]
  },
  {
   "cell_type": "code",
   "execution_count": 2,
   "metadata": {},
   "outputs": [],
   "source": [
    "# plotting defaults\n",
    "plt.rc('figure', figsize=(13, 7))\n",
    "plt.style.use('seaborn-whitegrid')\n",
    "plt.rc('font', size=16)"
   ]
  },
  {
   "cell_type": "code",
   "execution_count": 3,
   "metadata": {},
   "outputs": [
    {
     "name": "stdout",
     "output_type": "stream",
     "text": [
      "Date Range: 2012-10-01 13:00:00 to 2017-11-30 00:00:00\n",
      "Shape: (45252, 1)\n"
     ]
    },
    {
     "data": {
      "text/html": [
       "<div>\n",
       "<style scoped>\n",
       "    .dataframe tbody tr th:only-of-type {\n",
       "        vertical-align: middle;\n",
       "    }\n",
       "\n",
       "    .dataframe tbody tr th {\n",
       "        vertical-align: top;\n",
       "    }\n",
       "\n",
       "    .dataframe thead th {\n",
       "        text-align: right;\n",
       "    }\n",
       "</style>\n",
       "<table border=\"1\" class=\"dataframe\">\n",
       "  <thead>\n",
       "    <tr style=\"text-align: right;\">\n",
       "      <th></th>\n",
       "      <th>temp</th>\n",
       "    </tr>\n",
       "    <tr>\n",
       "      <th>datetime</th>\n",
       "      <th></th>\n",
       "    </tr>\n",
       "  </thead>\n",
       "  <tbody>\n",
       "    <tr>\n",
       "      <th>2012-10-01 13:00:00</th>\n",
       "      <td>61.052000</td>\n",
       "    </tr>\n",
       "    <tr>\n",
       "      <th>2012-10-01 14:00:00</th>\n",
       "      <td>61.076568</td>\n",
       "    </tr>\n",
       "    <tr>\n",
       "      <th>2012-10-01 15:00:00</th>\n",
       "      <td>61.139294</td>\n",
       "    </tr>\n",
       "    <tr>\n",
       "      <th>2012-10-01 16:00:00</th>\n",
       "      <td>61.202020</td>\n",
       "    </tr>\n",
       "    <tr>\n",
       "      <th>2012-10-01 17:00:00</th>\n",
       "      <td>61.264747</td>\n",
       "    </tr>\n",
       "    <tr>\n",
       "      <th>2012-10-01 18:00:00</th>\n",
       "      <td>61.327473</td>\n",
       "    </tr>\n",
       "    <tr>\n",
       "      <th>2012-10-01 19:00:00</th>\n",
       "      <td>61.390200</td>\n",
       "    </tr>\n",
       "    <tr>\n",
       "      <th>2012-10-01 20:00:00</th>\n",
       "      <td>61.452926</td>\n",
       "    </tr>\n",
       "    <tr>\n",
       "      <th>2012-10-01 21:00:00</th>\n",
       "      <td>61.515652</td>\n",
       "    </tr>\n",
       "    <tr>\n",
       "      <th>2012-10-01 22:00:00</th>\n",
       "      <td>61.578379</td>\n",
       "    </tr>\n",
       "  </tbody>\n",
       "</table>\n",
       "</div>"
      ],
      "text/plain": [
       "                          temp\n",
       "datetime                      \n",
       "2012-10-01 13:00:00  61.052000\n",
       "2012-10-01 14:00:00  61.076568\n",
       "2012-10-01 15:00:00  61.139294\n",
       "2012-10-01 16:00:00  61.202020\n",
       "2012-10-01 17:00:00  61.264747\n",
       "2012-10-01 18:00:00  61.327473\n",
       "2012-10-01 19:00:00  61.390200\n",
       "2012-10-01 20:00:00  61.452926\n",
       "2012-10-01 21:00:00  61.515652\n",
       "2012-10-01 22:00:00  61.578379"
      ]
     },
     "execution_count": 3,
     "metadata": {},
     "output_type": "execute_result"
    }
   ],
   "source": [
    "# reading in data from csv, changing index to date column, sorting by date\n",
    "df = pd.read_csv('sa_temps.csv', index_col='datetime', parse_dates=True).sort_index()\n",
    "\n",
    "# converting temperature type to Fahrenheit\n",
    "df.temp = (df.temp - 273.15) * 1.8 + 32\n",
    "\n",
    "# printing date range and df shape\n",
    "print('Date Range:', df.index.min(), 'to', df.index.max())\n",
    "print('Shape:', df.shape)\n",
    "\n",
    "# previewing data\n",
    "df.head(10)"
   ]
  },
  {
   "cell_type": "code",
   "execution_count": null,
   "metadata": {},
   "outputs": [],
   "source": []
  }
 ],
 "metadata": {
  "kernelspec": {
   "display_name": "Python 3",
   "language": "python",
   "name": "python3"
  },
  "language_info": {
   "codemirror_mode": {
    "name": "ipython",
    "version": 3
   },
   "file_extension": ".py",
   "mimetype": "text/x-python",
   "name": "python",
   "nbconvert_exporter": "python",
   "pygments_lexer": "ipython3",
   "version": "3.7.6"
  }
 },
 "nbformat": 4,
 "nbformat_minor": 4
}
